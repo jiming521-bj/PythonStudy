{
 "cells": [
  {
   "cell_type": "code",
   "execution_count": 3,
   "metadata": {
    "collapsed": true
   },
   "outputs": [
    {
     "name": "stdout",
     "output_type": "stream",
     "text": [
      "hello\n"
     ]
    }
   ],
   "source": [
    "# practice\n",
    "import functools\n",
    "def pint():\n",
    "    print(\"hello\")\n",
    "\n",
    "def string_change_int(s):\n",
    "    return {'0':0,\n",
    "            '1':1,\n",
    "            '2':2,\n",
    "            '3':3,\n",
    "            '4':4,\n",
    "            '5':5,\n",
    "            '6':6,\n",
    "            '7':7,\n",
    "            '8':8,\n",
    "            '9':9}[s]\n",
    "\n",
    "\n",
    "def result():\n",
    "    print(functools.reduce(lambda x, y: x * 10 + y, list(map(string_change_int, \"1212\"))))\n",
    "\n",
    "if __name__ == '__main__':\n",
    "    pint()\n",
    "    # result()"
   ]
  }
 ],
 "metadata": {
  "kernelspec": {
   "display_name": "Python 3",
   "language": "python",
   "name": "python3"
  },
  "language_info": {
   "codemirror_mode": {
    "name": "ipython",
    "version": 2
   },
   "file_extension": ".py",
   "mimetype": "text/x-python",
   "name": "python",
   "nbconvert_exporter": "python",
   "pygments_lexer": "ipython2",
   "version": "2.7.6"
  }
 },
 "nbformat": 4,
 "nbformat_minor": 0
}